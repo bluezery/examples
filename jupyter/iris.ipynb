{
 "cells": [
  {
   "cell_type": "code",
   "execution_count": 1,
   "metadata": {},
   "outputs": [],
   "source": [
    "# Load iris dataset from sklearn\n",
    "from sklearn.datasets import load_iris\n",
    "iris_dataset = load_iris()"
   ]
  },
  {
   "cell_type": "code",
   "execution_count": 2,
   "metadata": {},
   "outputs": [
    {
     "name": "stdout",
     "output_type": "stream",
     "text": [
      "irisi_dataset's key: \n",
      "dict_keys(['data', 'target', 'target_names', 'DESCR', 'feature_names'])\n"
     ]
    }
   ],
   "source": [
    "print(\"irisi_dataset's key: \\n{}\".format(iris_dataset.keys()))"
   ]
  },
  {
   "cell_type": "code",
   "execution_count": 3,
   "metadata": {},
   "outputs": [
    {
     "name": "stdout",
     "output_type": "stream",
     "text": [
      "Iris Plants Database\n",
      "====================\n",
      "\n",
      "Notes\n",
      "-----\n",
      "Data Set Characteristics:\n",
      "    :Number of Instances: 150 (50 in each of three classes)\n",
      "    :Number of Attributes: 4 numeric, predictive att\n",
      "...\n"
     ]
    }
   ],
   "source": [
    "print(iris_dataset['DESCR'][: 193] + \"\\n...\")"
   ]
  },
  {
   "cell_type": "code",
   "execution_count": 4,
   "metadata": {},
   "outputs": [
    {
     "name": "stdout",
     "output_type": "stream",
     "text": [
      "target names: ['setosa' 'versicolor' 'virginica']\n",
      "\n"
     ]
    }
   ],
   "source": [
    "print(\"target names: {}\\n\".format(iris_dataset['target_names']))"
   ]
  },
  {
   "cell_type": "code",
   "execution_count": 5,
   "metadata": {},
   "outputs": [
    {
     "name": "stdout",
     "output_type": "stream",
     "text": [
      "targets: [0 0 0 0 0 0 0 0 0 0 0 0 0 0 0 0 0 0 0 0 0 0 0 0 0 0 0 0 0 0 0 0 0 0 0 0 0\n",
      " 0 0 0 0 0 0 0 0 0 0 0 0 0 1 1 1 1 1 1 1 1 1 1 1 1 1 1 1 1 1 1 1 1 1 1 1 1\n",
      " 1 1 1 1 1 1 1 1 1 1 1 1 1 1 1 1 1 1 1 1 1 1 1 1 1 1 2 2 2 2 2 2 2 2 2 2 2\n",
      " 2 2 2 2 2 2 2 2 2 2 2 2 2 2 2 2 2 2 2 2 2 2 2 2 2 2 2 2 2 2 2 2 2 2 2 2 2\n",
      " 2 2]\n",
      "\n"
     ]
    }
   ],
   "source": [
    "print(\"targets: {}\\n\".format(iris_dataset['target']))"
   ]
  },
  {
   "cell_type": "code",
   "execution_count": 6,
   "metadata": {},
   "outputs": [
    {
     "name": "stdout",
     "output_type": "stream",
     "text": [
      "targets: ['sepal length (cm)', 'sepal width (cm)', 'petal length (cm)', 'petal width (cm)']\n",
      "\n"
     ]
    }
   ],
   "source": [
    "print(\"targets: {}\\n\".format(iris_dataset['feature_names']))"
   ]
  },
  {
   "cell_type": "code",
   "execution_count": 7,
   "metadata": {},
   "outputs": [
    {
     "name": "stdout",
     "output_type": "stream",
     "text": [
      "targets: (150, 4)\n",
      "\n"
     ]
    }
   ],
   "source": [
    "print(\"targets: {}\\n\".format(iris_dataset['data'].shape))"
   ]
  },
  {
   "cell_type": "code",
   "execution_count": 8,
   "metadata": {},
   "outputs": [],
   "source": [
    "# split train and test data set from iris dataset\n",
    "from sklearn.model_selection import train_test_split\n",
    "X_train, X_test, y_train, y_test = train_test_split(iris_dataset['data'], iris_dataset['target'], random_state=0)"
   ]
  },
  {
   "cell_type": "code",
   "execution_count": 9,
   "metadata": {},
   "outputs": [
    {
     "name": "stdout",
     "output_type": "stream",
     "text": [
      "X_train's size (112, 4)\n",
      "y_train's size (112,)\n",
      "X_test's size (38, 4)\n",
      "y_test's size (38,)\n"
     ]
    }
   ],
   "source": [
    "print(\"X_train's size {}\".format(X_train.shape))\n",
    "print(\"y_train's size {}\".format(y_train.shape))\n",
    "print(\"X_test's size {}\".format(X_test.shape))\n",
    "print(\"y_test's size {}\".format(y_test.shape))"
   ]
  },
  {
   "cell_type": "code",
   "execution_count": 10,
   "metadata": {},
   "outputs": [
    {
     "data": {
      "text/plain": [
       "array([[<matplotlib.axes._subplots.AxesSubplot object at 0x00000184F0511668>,\n",
       "        <matplotlib.axes._subplots.AxesSubplot object at 0x00000184F258E278>,\n",
       "        <matplotlib.axes._subplots.AxesSubplot object at 0x00000184F255C160>,\n",
       "        <matplotlib.axes._subplots.AxesSubplot object at 0x00000184F25F7940>],\n",
       "       [<matplotlib.axes._subplots.AxesSubplot object at 0x00000184F2630940>,\n",
       "        <matplotlib.axes._subplots.AxesSubplot object at 0x00000184F2630978>,\n",
       "        <matplotlib.axes._subplots.AxesSubplot object at 0x00000184F26A1A20>,\n",
       "        <matplotlib.axes._subplots.AxesSubplot object at 0x00000184F26C7BE0>],\n",
       "       [<matplotlib.axes._subplots.AxesSubplot object at 0x00000184F2705BE0>,\n",
       "        <matplotlib.axes._subplots.AxesSubplot object at 0x00000184F273BE10>,\n",
       "        <matplotlib.axes._subplots.AxesSubplot object at 0x00000184F275C6A0>,\n",
       "        <matplotlib.axes._subplots.AxesSubplot object at 0x00000184F27B1DA0>],\n",
       "       [<matplotlib.axes._subplots.AxesSubplot object at 0x00000184F27E4710>,\n",
       "        <matplotlib.axes._subplots.AxesSubplot object at 0x00000184F281C780>,\n",
       "        <matplotlib.axes._subplots.AxesSubplot object at 0x00000184F2858780>,\n",
       "        <matplotlib.axes._subplots.AxesSubplot object at 0x00000184F288F6A0>]], dtype=object)"
      ]
     },
     "execution_count": 10,
     "metadata": {},
     "output_type": "execute_result"
    }
   ],
   "source": [
    "# drawing sctter matrix plot\n",
    "# X: columns Y: class\n",
    "import pandas as pd\n",
    "from matplotlib.colors import ListedColormap\n",
    "cm3 = ListedColormap(['#0000aa', '#ff2020', '#50ff50'])\n",
    "iris_dataframe = pd.DataFrame(X_train, columns=iris_dataset.feature_names)\n",
    "pd.plotting.scatter_matrix(iris_dataframe, c=y_train, figsize=(15, 15), marker='o',hist_kwds={'bins':20}, s=60, alpha=.8, cmap=cm3)"
   ]
  },
  {
   "cell_type": "code",
   "execution_count": 25,
   "metadata": {},
   "outputs": [
    {
     "name": "stdout",
     "output_type": "stream",
     "text": [
      "Prediction: [0]['setosa']\n"
     ]
    }
   ],
   "source": [
    "# Training new model with K-Nearest Neighbors, K-NN \n",
    "from sklearn.neighbors import KNeighborsClassifier\n",
    "knn = KNeighborsClassifier(n_neighbors=1)\n",
    "knn.fit(X_train, y_train)\n",
    "\n",
    "## Predict by the model\n",
    "import numpy as np\n",
    "X_new = np.array([[5, 2.9, 1, 0.2]])\n",
    "prediction = knn.predict(X_new)\n",
    "print(\"Prediction: {}{}\".format(prediction,iris_dataset['target_names'][prediction]))"
   ]
  },
  {
   "cell_type": "code",
   "execution_count": 31,
   "metadata": {},
   "outputs": [
    {
     "name": "stdout",
     "output_type": "stream",
     "text": [
      "Prediction: [2 1 0 2 0 2 0 1 1 1 2 1 1 1 1 0 1 1 0 0 2 1 0 0 2 0 0 1 1 0 2 1 0 2 2 1 0\n",
      " 2]['virginica' 'versicolor' 'setosa' 'virginica' 'setosa' 'virginica'\n",
      " 'setosa' 'versicolor' 'versicolor' 'versicolor' 'virginica' 'versicolor'\n",
      " 'versicolor' 'versicolor' 'versicolor' 'setosa' 'versicolor' 'versicolor'\n",
      " 'setosa' 'setosa' 'virginica' 'versicolor' 'setosa' 'setosa' 'virginica'\n",
      " 'setosa' 'setosa' 'versicolor' 'versicolor' 'setosa' 'virginica'\n",
      " 'versicolor' 'setosa' 'virginica' 'virginica' 'versicolor' 'setosa'\n",
      " 'virginica']\n",
      "Prediction Accuracy: 0.9736842105263158\n"
     ]
    }
   ],
   "source": [
    "## Evaluate the Model by using test datesets\n",
    "y_pred = knn.predict(X_test)\n",
    "print(\"Prediction: {}{}\".format(y_pred,iris_dataset['target_names'][y_pred]))\n",
    "print(\"Prediction Accuracy: {}\".format(np.mean(y_pred == y_test)))"
   ]
  },
  {
   "cell_type": "code",
   "execution_count": null,
   "metadata": {},
   "outputs": [],
   "source": []
  }
 ],
 "metadata": {
  "kernelspec": {
   "display_name": "Python 3",
   "language": "python",
   "name": "python3"
  },
  "language_info": {
   "codemirror_mode": {
    "name": "ipython",
    "version": 3
   },
   "file_extension": ".py",
   "mimetype": "text/x-python",
   "name": "python",
   "nbconvert_exporter": "python",
   "pygments_lexer": "ipython3",
   "version": "3.6.2"
  }
 },
 "nbformat": 4,
 "nbformat_minor": 2
}
