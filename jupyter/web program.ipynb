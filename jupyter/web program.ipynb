{
 "cells": [
  {
   "cell_type": "code",
   "execution_count": 10,
   "metadata": {
    "scrolled": true
   },
   "outputs": [
    {
     "data": {
      "text/html": [
       "<style>\n",
       ".hello-world {\n",
       "    border: 1px solid black;\n",
       "    width: 300px;\n",
       "    height: 50px;\n",
       "    font-size: 2em;\n",
       "    padding: 0.3em;    \n",
       "}\n",
       "</style>\n",
       "<div class='hello-world'>\n",
       "Hello, World\n",
       "</div>"
      ],
      "text/plain": [
       "<IPython.core.display.HTML object>"
      ]
     },
     "metadata": {},
     "output_type": "display_data"
    }
   ],
   "source": [
    "%%html\n",
    "<style>\n",
    ".hello-world {\n",
    "    border: 1px solid black;\n",
    "    width: 300px;\n",
    "    height: 50px;\n",
    "    font-size: 2em;\n",
    "    padding: 0.3em;    \n",
    "}\n",
    "</style>\n",
    "<div class='hello-world'>\n",
    "Hello, World\n",
    "</div>"
   ]
  },
  {
   "cell_type": "code",
   "execution_count": 8,
   "metadata": {},
   "outputs": [
    {
     "data": {
      "application/javascript": [
       "window.get_element = function(el) {\n",
       "    if (el) { $(el).html('')}\n",
       "    return (el != undefined) ? el[0] : $('script').last().parent()[0];\n",
       "};\n",
       "element = undefined"
      ],
      "text/plain": [
       "<IPython.core.display.Javascript object>"
      ]
     },
     "metadata": {},
     "output_type": "display_data"
    }
   ],
   "source": [
    "%%javascript\n",
    "window.get_element = function(el) {\n",
    "    if (el) { $(el).html('')}\n",
    "    return (el != undefined) ? el[0] : $('script').last().parent()[0];\n",
    "};\n",
    "element = undefined"
   ]
  },
  {
   "cell_type": "code",
   "execution_count": 11,
   "metadata": {},
   "outputs": [
    {
     "data": {
      "application/javascript": [
       "$(element).append('<div class=\"hello-world\">Hello, magic!</div>')"
      ],
      "text/plain": [
       "<IPython.core.display.Javascript object>"
      ]
     },
     "metadata": {},
     "output_type": "display_data"
    }
   ],
   "source": [
    "%%javascript\n",
    "$(element).append('<div class=\"hello-world\">Hello, magic!</div>')"
   ]
  },
  {
   "cell_type": "code",
   "execution_count": null,
   "metadata": {},
   "outputs": [],
   "source": []
  }
 ],
 "metadata": {
  "kernelspec": {
   "display_name": "Python 3",
   "language": "python",
   "name": "python3"
  },
  "language_info": {
   "codemirror_mode": {
    "name": "ipython",
    "version": 3
   },
   "file_extension": ".py",
   "mimetype": "text/x-python",
   "name": "python",
   "nbconvert_exporter": "python",
   "pygments_lexer": "ipython3",
   "version": "3.6.2"
  }
 },
 "nbformat": 4,
 "nbformat_minor": 2
}
